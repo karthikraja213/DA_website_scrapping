{
  "nbformat": 4,
  "nbformat_minor": 0,
  "metadata": {
    "colab": {
      "provenance": []
    },
    "kernelspec": {
      "name": "python3",
      "display_name": "Python 3"
    },
    "language_info": {
      "name": "python"
    }
  },
  "cells": [
    {
      "cell_type": "code",
      "execution_count": null,
      "metadata": {
        "id": "drX_RJ5AXnQ1",
        "colab": {
          "base_uri": "https://localhost:8080/",
          "height": 624
        },
        "outputId": "166aee2f-020e-4cfd-a1ae-0e4df2b22699"
      },
      "outputs": [
        {
          "output_type": "stream",
          "name": "stdout",
          "text": [
            "2010\n",
            "2011\n",
            "2012\n",
            "2013\n",
            "2014\n",
            "2015\n",
            "2016\n",
            "2017\n",
            "breaking loop as the request count has exceeded 70\n",
            "Response Count=71\n",
            "The no of movies ignored due to missing metascore:1069\n"
          ]
        },
        {
          "output_type": "execute_result",
          "data": {
            "text/plain": [
              "                                  Movie Name  Year  IMDB Rating  Metascore\n",
              "0                                  Inception  2010          8.8         74\n",
              "1                                 Black Swan  2010          8.0         79\n",
              "2                                  Burlesque  2010          6.4         47\n",
              "3                                     Easy A  2010          7.0         72\n",
              "4                             Shutter Island  2010          8.2         63\n",
              "...                                      ...   ...          ...        ...\n",
              "2426                         After the Storm  2016          7.3         84\n",
              "2427  Battle for Incheon: Operation Chromite  2016          6.2         50\n",
              "2428                       The Ornithologist  2016          6.3         85\n",
              "2429                    Swallows and Amazons  2016          6.1         65\n",
              "2430                               Antibirth  2016          4.9         56\n",
              "\n",
              "[2431 rows x 4 columns]"
            ],
            "text/html": [
              "\n",
              "  <div id=\"df-8b5d68f8-d1f4-4368-ae77-cfba8fb193fd\">\n",
              "    <div class=\"colab-df-container\">\n",
              "      <div>\n",
              "<style scoped>\n",
              "    .dataframe tbody tr th:only-of-type {\n",
              "        vertical-align: middle;\n",
              "    }\n",
              "\n",
              "    .dataframe tbody tr th {\n",
              "        vertical-align: top;\n",
              "    }\n",
              "\n",
              "    .dataframe thead th {\n",
              "        text-align: right;\n",
              "    }\n",
              "</style>\n",
              "<table border=\"1\" class=\"dataframe\">\n",
              "  <thead>\n",
              "    <tr style=\"text-align: right;\">\n",
              "      <th></th>\n",
              "      <th>Movie Name</th>\n",
              "      <th>Year</th>\n",
              "      <th>IMDB Rating</th>\n",
              "      <th>Metascore</th>\n",
              "    </tr>\n",
              "  </thead>\n",
              "  <tbody>\n",
              "    <tr>\n",
              "      <th>0</th>\n",
              "      <td>Inception</td>\n",
              "      <td>2010</td>\n",
              "      <td>8.8</td>\n",
              "      <td>74</td>\n",
              "    </tr>\n",
              "    <tr>\n",
              "      <th>1</th>\n",
              "      <td>Black Swan</td>\n",
              "      <td>2010</td>\n",
              "      <td>8.0</td>\n",
              "      <td>79</td>\n",
              "    </tr>\n",
              "    <tr>\n",
              "      <th>2</th>\n",
              "      <td>Burlesque</td>\n",
              "      <td>2010</td>\n",
              "      <td>6.4</td>\n",
              "      <td>47</td>\n",
              "    </tr>\n",
              "    <tr>\n",
              "      <th>3</th>\n",
              "      <td>Easy A</td>\n",
              "      <td>2010</td>\n",
              "      <td>7.0</td>\n",
              "      <td>72</td>\n",
              "    </tr>\n",
              "    <tr>\n",
              "      <th>4</th>\n",
              "      <td>Shutter Island</td>\n",
              "      <td>2010</td>\n",
              "      <td>8.2</td>\n",
              "      <td>63</td>\n",
              "    </tr>\n",
              "    <tr>\n",
              "      <th>...</th>\n",
              "      <td>...</td>\n",
              "      <td>...</td>\n",
              "      <td>...</td>\n",
              "      <td>...</td>\n",
              "    </tr>\n",
              "    <tr>\n",
              "      <th>2426</th>\n",
              "      <td>After the Storm</td>\n",
              "      <td>2016</td>\n",
              "      <td>7.3</td>\n",
              "      <td>84</td>\n",
              "    </tr>\n",
              "    <tr>\n",
              "      <th>2427</th>\n",
              "      <td>Battle for Incheon: Operation Chromite</td>\n",
              "      <td>2016</td>\n",
              "      <td>6.2</td>\n",
              "      <td>50</td>\n",
              "    </tr>\n",
              "    <tr>\n",
              "      <th>2428</th>\n",
              "      <td>The Ornithologist</td>\n",
              "      <td>2016</td>\n",
              "      <td>6.3</td>\n",
              "      <td>85</td>\n",
              "    </tr>\n",
              "    <tr>\n",
              "      <th>2429</th>\n",
              "      <td>Swallows and Amazons</td>\n",
              "      <td>2016</td>\n",
              "      <td>6.1</td>\n",
              "      <td>65</td>\n",
              "    </tr>\n",
              "    <tr>\n",
              "      <th>2430</th>\n",
              "      <td>Antibirth</td>\n",
              "      <td>2016</td>\n",
              "      <td>4.9</td>\n",
              "      <td>56</td>\n",
              "    </tr>\n",
              "  </tbody>\n",
              "</table>\n",
              "<p>2431 rows × 4 columns</p>\n",
              "</div>\n",
              "      <button class=\"colab-df-convert\" onclick=\"convertToInteractive('df-8b5d68f8-d1f4-4368-ae77-cfba8fb193fd')\"\n",
              "              title=\"Convert this dataframe to an interactive table.\"\n",
              "              style=\"display:none;\">\n",
              "        \n",
              "  <svg xmlns=\"http://www.w3.org/2000/svg\" height=\"24px\"viewBox=\"0 0 24 24\"\n",
              "       width=\"24px\">\n",
              "    <path d=\"M0 0h24v24H0V0z\" fill=\"none\"/>\n",
              "    <path d=\"M18.56 5.44l.94 2.06.94-2.06 2.06-.94-2.06-.94-.94-2.06-.94 2.06-2.06.94zm-11 1L8.5 8.5l.94-2.06 2.06-.94-2.06-.94L8.5 2.5l-.94 2.06-2.06.94zm10 10l.94 2.06.94-2.06 2.06-.94-2.06-.94-.94-2.06-.94 2.06-2.06.94z\"/><path d=\"M17.41 7.96l-1.37-1.37c-.4-.4-.92-.59-1.43-.59-.52 0-1.04.2-1.43.59L10.3 9.45l-7.72 7.72c-.78.78-.78 2.05 0 2.83L4 21.41c.39.39.9.59 1.41.59.51 0 1.02-.2 1.41-.59l7.78-7.78 2.81-2.81c.8-.78.8-2.07 0-2.86zM5.41 20L4 18.59l7.72-7.72 1.47 1.35L5.41 20z\"/>\n",
              "  </svg>\n",
              "      </button>\n",
              "      \n",
              "  <style>\n",
              "    .colab-df-container {\n",
              "      display:flex;\n",
              "      flex-wrap:wrap;\n",
              "      gap: 12px;\n",
              "    }\n",
              "\n",
              "    .colab-df-convert {\n",
              "      background-color: #E8F0FE;\n",
              "      border: none;\n",
              "      border-radius: 50%;\n",
              "      cursor: pointer;\n",
              "      display: none;\n",
              "      fill: #1967D2;\n",
              "      height: 32px;\n",
              "      padding: 0 0 0 0;\n",
              "      width: 32px;\n",
              "    }\n",
              "\n",
              "    .colab-df-convert:hover {\n",
              "      background-color: #E2EBFA;\n",
              "      box-shadow: 0px 1px 2px rgba(60, 64, 67, 0.3), 0px 1px 3px 1px rgba(60, 64, 67, 0.15);\n",
              "      fill: #174EA6;\n",
              "    }\n",
              "\n",
              "    [theme=dark] .colab-df-convert {\n",
              "      background-color: #3B4455;\n",
              "      fill: #D2E3FC;\n",
              "    }\n",
              "\n",
              "    [theme=dark] .colab-df-convert:hover {\n",
              "      background-color: #434B5C;\n",
              "      box-shadow: 0px 1px 3px 1px rgba(0, 0, 0, 0.15);\n",
              "      filter: drop-shadow(0px 1px 2px rgba(0, 0, 0, 0.3));\n",
              "      fill: #FFFFFF;\n",
              "    }\n",
              "  </style>\n",
              "\n",
              "      <script>\n",
              "        const buttonEl =\n",
              "          document.querySelector('#df-8b5d68f8-d1f4-4368-ae77-cfba8fb193fd button.colab-df-convert');\n",
              "        buttonEl.style.display =\n",
              "          google.colab.kernel.accessAllowed ? 'block' : 'none';\n",
              "\n",
              "        async function convertToInteractive(key) {\n",
              "          const element = document.querySelector('#df-8b5d68f8-d1f4-4368-ae77-cfba8fb193fd');\n",
              "          const dataTable =\n",
              "            await google.colab.kernel.invokeFunction('convertToInteractive',\n",
              "                                                     [key], {});\n",
              "          if (!dataTable) return;\n",
              "\n",
              "          const docLinkHtml = 'Like what you see? Visit the ' +\n",
              "            '<a target=\"_blank\" href=https://colab.research.google.com/notebooks/data_table.ipynb>data table notebook</a>'\n",
              "            + ' to learn more about interactive tables.';\n",
              "          element.innerHTML = '';\n",
              "          dataTable['output_type'] = 'display_data';\n",
              "          await google.colab.output.renderOutput(dataTable, element);\n",
              "          const docLink = document.createElement('div');\n",
              "          docLink.innerHTML = docLinkHtml;\n",
              "          element.appendChild(docLink);\n",
              "        }\n",
              "      </script>\n",
              "    </div>\n",
              "  </div>\n",
              "  "
            ]
          },
          "metadata": {},
          "execution_count": 1
        }
      ],
      "source": [
        "import pandas as pd\n",
        "from matplotlib import pyplot as plt\n",
        "import requests\n",
        "import time\n",
        "import random\n",
        "from bs4 import BeautifulSoup\n",
        "list_years=[2010,2011,2012,2013,2014,2015,2016,2017,2018,2019,2020]\n",
        "Dict_Url={}\n",
        "Movies=[]\n",
        "response_count=0\n",
        "ignored=0\n",
        "sleep_var=[8,9,10,11,12,13,14,15]\n",
        "# ●\tLoop through the years_url list to vary the release_date parameter of the URL\n",
        "for i in list_years:\n",
        "  url=\"https://www.imdb.com/search/title/?title_type=feature&year=\"+str(i)+\"-01-01,\"+str(i)+\"-12-31&sort=year,asc&ref_=adv_prv\"\n",
        "  x= requests.get(url)\n",
        "  Dict_Url[i]=url\n",
        "  print(i)\n",
        "  # ●\tPause the loop for a time interval between 8 and 15 seconds\n",
        "  time.sleep(random.choice(sleep_var))\n",
        "  # ●\tFor each element in years_url, loop through the pages list to vary the page parameter of the URL\n",
        "  # limiting to first 10 pages\n",
        "  for j in range(0,10):\n",
        "    try:\n",
        "      j=j*50+1\n",
        "      page_url=\"https://www.imdb.com/search/title/?title_type=feature&year=\"+str(i)+\"-01-01,\"+str(i)+\"-12-31&sort=year,asc&start=\"+str(j)+\"&ref_=adv_prv\"\n",
        "      #print(page_url)\n",
        "      y=requests.get(page_url)\n",
        "      # ●\tThrow a warning for non-200 status codes\n",
        "      if (y.status_code!=200):\n",
        "          print(\"response code is not 200\")\n",
        "          print(y)\n",
        "      response_count+=1\n",
        "\n",
        "    except requests.ConnectionError as e:\n",
        "      print(e)\n",
        "    # ●\tBreak the loop if the number of requests is greater than the 70 expected.\n",
        "    if response_count>70:\n",
        "        break\n",
        "    # ● Parse the data with Beautiful Soup\n",
        "    soup=BeautifulSoup(y.content,'html.parser')\n",
        "    # ●\tConvert the response‘s HTML content to a BeautifulSoup object\n",
        "    films=soup.findAll(\"div\",{\"class\":\"lister-item mode-advanced\"})\n",
        "    # ●\tLoop through all these containers\n",
        "    for k in films:\n",
        "      # ●\tExtract the data if a container has a Metascore\n",
        "      if k.find('div',{\"class\":\"inline-block ratings-metascore\"}) is None:\n",
        "        ignored+=1\n",
        "      else:\n",
        "        movie_name=k.h3.a.text.strip()\n",
        "        movie_year=k.h3.find(\"span\",{\"class\":\"lister-item-year text-muted unbold\"}).text.strip(\"V,I, ,()\")\n",
        "        if k.find('div',{\"class\":\"inline-block ratings-imdb-rating\"}) is None:\n",
        "          movie_rating=\"NA\"\n",
        "        else:\n",
        "          movie_rating=float(k.find('div',{\"class\":\"inline-block ratings-imdb-rating\"}).strong.text)\n",
        "        movie_metascore=int(k.find('div',{\"class\":\"inline-block ratings-metascore\"}).span.text.strip())\n",
        "\n",
        "        Movies.append({\"Movie Name\":movie_name,\"Year\":movie_year,\"IMDB Rating\":movie_rating,\"Metascore\":movie_metascore})\n",
        "  if response_count>70:\n",
        "    print(\"breaking loop as the request count has exceeded 70\")\n",
        "    print(\"Response Count=\" + str(response_count))\n",
        "    break\n",
        "# ●\tCreate a Pandas Dataframe to hold the info scraped (movie, years imdb_ratings, metascore, votes)\n",
        "Movie_df=pd.DataFrame(Movies)\n",
        "Movie_df\n",
        "# ●\tWrite the Pandas Dataframe to a CSV\n",
        "Movie_df.to_csv('Movies - Imdb.csv',index=False)\n",
        "print(\"The no of movies ignored due to missing metascore:\"+str(ignored))\n",
        "Movie_df\n",
        "\n"
      ]
    },
    {
      "cell_type": "markdown",
      "source": [
        "●\tUse matplotlib to create two histograms to visually compare the average IMDB rating to the average metascore rating (15 Marks)"
      ],
      "metadata": {
        "id": "E0g7xRg_N3x-"
      }
    },
    {
      "cell_type": "code",
      "source": [
        "plt.hist(Movie_df[\"Metascore\"],color='red',ec='blue')\n",
        "plt.xlabel('Metascore')\n",
        "plt.ylabel('Number of Movies')\n",
        "plt.title('Metascore - Histogram')"
      ],
      "metadata": {
        "colab": {
          "base_uri": "https://localhost:8080/",
          "height": 313
        },
        "id": "A3ku1ANeASvV",
        "outputId": "738974e6-9296-403f-baf5-331a20c11825"
      },
      "execution_count": null,
      "outputs": [
        {
          "output_type": "execute_result",
          "data": {
            "text/plain": [
              "Text(0.5, 1.0, 'Metascore - Histogram')"
            ]
          },
          "metadata": {},
          "execution_count": 2
        },
        {
          "output_type": "display_data",
          "data": {
            "text/plain": [
              "<Figure size 432x288 with 1 Axes>"
            ],
            "image/png": "[encoded data removed]"
          },
          "metadata": {
            "needs_background": "light"
          }
        }
      ]
    },
    {
      "cell_type": "code",
      "source": [
        "plt.hist(Movie_df[\"IMDB Rating\"],color='red',ec='blue')\n",
        "plt.xlabel('Rating')\n",
        "plt.ylabel('Number of Movies')\n",
        "plt.title('IMDB Rating - Histogram')\n"
      ],
      "metadata": {
        "colab": {
          "base_uri": "https://localhost:8080/",
          "height": 313
        },
        "id": "22Tj4wTVEJPR",
        "outputId": "35fd3ea0-30fa-4f5e-fd1d-2724f39052ef"
      },
      "execution_count": null,
      "outputs": [
        {
          "output_type": "execute_result",
          "data": {
            "text/plain": [
              "Text(0.5, 1.0, 'IMDB Rating - Histogram')"
            ]
          },
          "metadata": {},
          "execution_count": 3
        },
        {
          "output_type": "display_data",
          "data": {
            "text/plain": [
              "<Figure size 432x288 with 1 Axes>"
            ],
            "image/png": "[encoded data removed]"
          },
          "metadata": {
            "needs_background": "light"
          }
        }
      ]
    },
    {
      "cell_type": "code",
      "source": [],
      "metadata": {
        "colab": {
          "base_uri": "https://localhost:8080/"
        },
        "id": "y13N7YGi8mKs",
        "outputId": "3ed70a24-887e-486f-b2b1-c7fa2da7a85f"
      },
      "execution_count": null,
      "outputs": [
        {
          "output_type": "execute_result",
          "data": {
            "text/plain": [
              "11"
            ]
          },
          "metadata": {},
          "execution_count": 15
        }
      ]
    }
  ]
}